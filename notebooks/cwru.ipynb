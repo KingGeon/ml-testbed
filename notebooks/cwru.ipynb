{
 "cells": [
  {
   "cell_type": "code",
   "execution_count": 1,
   "metadata": {},
   "outputs": [
    {
     "name": "stdout",
     "output_type": "stream",
     "text": [
      "현재 작업 디렉토리: /home/geon/dev_geon\n"
     ]
    }
   ],
   "source": [
    "import os\n",
    "import errno\n",
    "import random\n",
    "import urllib.request as urllib\n",
    "import numpy as np\n",
    "from typing import List\n",
    "import torch\n",
    "from torch.utils.data import Dataset\n",
    "import matplotlib.pyplot as plt\n",
    "new_directory = \"/home/geon/dev_geon/\"  # 변경하고자 하는 새 디렉토리 경로로 대체\n",
    "os.chdir(new_directory)\n",
    "current_directory = os.getcwd()\n",
    "from code_block.load_opensource.rca.load_cwru import CWRU\n",
    "print(\"현재 작업 디렉토리:\", current_directory)"
   ]
  },
  {
   "cell_type": "code",
   "execution_count": 2,
   "metadata": {},
   "outputs": [
    {
     "name": "stdout",
     "output_type": "stream",
     "text": [
      "/home/geon/dev_geon/open_source_data 12DriveEndFault 1797\n",
      "0 /home/geon/dev_geon/open_source_data/NormalBaseline/1797/Normal.mat\n"
     ]
    },
    {
     "name": "stderr",
     "output_type": "stream",
     "text": [
      "  2%|▏         | 2/100 [00:00<00:05, 18.15it/s]"
     ]
    },
    {
     "name": "stderr",
     "output_type": "stream",
     "text": [
      "100%|██████████| 100/100 [00:05<00:00, 19.49it/s]\n"
     ]
    },
    {
     "name": "stdout",
     "output_type": "stream",
     "text": [
      "1 /home/geon/dev_geon/open_source_data/12DriveEndFault/1797/0.007-Ball.mat\n"
     ]
    },
    {
     "name": "stderr",
     "output_type": "stream",
     "text": [
      "100%|██████████| 100/100 [00:04<00:00, 21.30it/s]\n"
     ]
    },
    {
     "name": "stdout",
     "output_type": "stream",
     "text": [
      "2 /home/geon/dev_geon/open_source_data/12DriveEndFault/1797/0.014-Ball.mat\n"
     ]
    },
    {
     "name": "stderr",
     "output_type": "stream",
     "text": [
      "100%|██████████| 100/100 [00:04<00:00, 20.78it/s]\n"
     ]
    },
    {
     "name": "stdout",
     "output_type": "stream",
     "text": [
      "3 /home/geon/dev_geon/open_source_data/12DriveEndFault/1797/0.021-Ball.mat\n"
     ]
    },
    {
     "name": "stderr",
     "output_type": "stream",
     "text": [
      "100%|██████████| 100/100 [00:04<00:00, 21.22it/s]\n"
     ]
    },
    {
     "name": "stdout",
     "output_type": "stream",
     "text": [
      "4 /home/geon/dev_geon/open_source_data/12DriveEndFault/1797/0.007-InnerRace.mat\n"
     ]
    },
    {
     "name": "stderr",
     "output_type": "stream",
     "text": [
      "100%|██████████| 100/100 [00:04<00:00, 20.13it/s]\n"
     ]
    },
    {
     "name": "stdout",
     "output_type": "stream",
     "text": [
      "5 /home/geon/dev_geon/open_source_data/12DriveEndFault/1797/0.014-InnerRace.mat\n"
     ]
    },
    {
     "name": "stderr",
     "output_type": "stream",
     "text": [
      "100%|██████████| 100/100 [00:04<00:00, 20.61it/s]\n"
     ]
    },
    {
     "name": "stdout",
     "output_type": "stream",
     "text": [
      "6 /home/geon/dev_geon/open_source_data/12DriveEndFault/1797/0.021-InnerRace.mat\n"
     ]
    },
    {
     "name": "stderr",
     "output_type": "stream",
     "text": [
      "100%|██████████| 100/100 [00:04<00:00, 21.08it/s]\n"
     ]
    },
    {
     "name": "stdout",
     "output_type": "stream",
     "text": [
      "7 /home/geon/dev_geon/open_source_data/12DriveEndFault/1797/0.007-OuterRace6.mat\n"
     ]
    },
    {
     "name": "stderr",
     "output_type": "stream",
     "text": [
      "100%|██████████| 100/100 [00:04<00:00, 20.90it/s]\n"
     ]
    },
    {
     "name": "stdout",
     "output_type": "stream",
     "text": [
      "8 /home/geon/dev_geon/open_source_data/12DriveEndFault/1797/0.014-OuterRace6.mat\n"
     ]
    },
    {
     "name": "stderr",
     "output_type": "stream",
     "text": [
      "100%|██████████| 100/100 [00:04<00:00, 20.97it/s]\n"
     ]
    },
    {
     "name": "stdout",
     "output_type": "stream",
     "text": [
      "9 /home/geon/dev_geon/open_source_data/12DriveEndFault/1797/0.021-OuterRace6.mat\n"
     ]
    },
    {
     "name": "stderr",
     "output_type": "stream",
     "text": [
      "100%|██████████| 100/100 [00:04<00:00, 20.68it/s]\n"
     ]
    },
    {
     "name": "stdout",
     "output_type": "stream",
     "text": [
      "(1000, 1200, 30)\n",
      "/home/geon/dev_geon/open_source_data 12DriveEndFault 1772\n",
      "0 /home/geon/dev_geon/open_source_data/NormalBaseline/1772/Normal.mat\n"
     ]
    },
    {
     "name": "stderr",
     "output_type": "stream",
     "text": [
      "100%|██████████| 100/100 [00:03<00:00, 29.75it/s]\n"
     ]
    },
    {
     "name": "stdout",
     "output_type": "stream",
     "text": [
      "1 /home/geon/dev_geon/open_source_data/12DriveEndFault/1772/0.007-Ball.mat\n"
     ]
    },
    {
     "name": "stderr",
     "output_type": "stream",
     "text": [
      "100%|██████████| 100/100 [00:03<00:00, 30.48it/s]\n"
     ]
    },
    {
     "name": "stdout",
     "output_type": "stream",
     "text": [
      "2 /home/geon/dev_geon/open_source_data/12DriveEndFault/1772/0.014-Ball.mat\n"
     ]
    },
    {
     "name": "stderr",
     "output_type": "stream",
     "text": [
      "100%|██████████| 100/100 [00:03<00:00, 30.36it/s]\n"
     ]
    },
    {
     "name": "stdout",
     "output_type": "stream",
     "text": [
      "3 /home/geon/dev_geon/open_source_data/12DriveEndFault/1772/0.021-Ball.mat\n"
     ]
    },
    {
     "name": "stderr",
     "output_type": "stream",
     "text": [
      "100%|██████████| 100/100 [00:03<00:00, 30.25it/s]\n"
     ]
    },
    {
     "name": "stdout",
     "output_type": "stream",
     "text": [
      "4 /home/geon/dev_geon/open_source_data/12DriveEndFault/1772/0.007-InnerRace.mat\n"
     ]
    },
    {
     "name": "stderr",
     "output_type": "stream",
     "text": [
      "100%|██████████| 100/100 [00:03<00:00, 29.95it/s]\n"
     ]
    },
    {
     "name": "stdout",
     "output_type": "stream",
     "text": [
      "5 /home/geon/dev_geon/open_source_data/12DriveEndFault/1772/0.014-InnerRace.mat\n"
     ]
    },
    {
     "name": "stderr",
     "output_type": "stream",
     "text": [
      "100%|██████████| 100/100 [00:03<00:00, 30.48it/s]\n"
     ]
    },
    {
     "name": "stdout",
     "output_type": "stream",
     "text": [
      "6 /home/geon/dev_geon/open_source_data/12DriveEndFault/1772/0.021-InnerRace.mat\n"
     ]
    },
    {
     "name": "stderr",
     "output_type": "stream",
     "text": [
      "100%|██████████| 100/100 [00:03<00:00, 30.32it/s]\n"
     ]
    },
    {
     "name": "stdout",
     "output_type": "stream",
     "text": [
      "7 /home/geon/dev_geon/open_source_data/12DriveEndFault/1772/0.007-OuterRace6.mat\n"
     ]
    },
    {
     "name": "stderr",
     "output_type": "stream",
     "text": [
      "100%|██████████| 100/100 [00:03<00:00, 30.37it/s]\n"
     ]
    },
    {
     "name": "stdout",
     "output_type": "stream",
     "text": [
      "8 /home/geon/dev_geon/open_source_data/12DriveEndFault/1772/0.014-OuterRace6.mat\n"
     ]
    },
    {
     "name": "stderr",
     "output_type": "stream",
     "text": [
      "100%|██████████| 100/100 [00:03<00:00, 30.33it/s]\n"
     ]
    },
    {
     "name": "stdout",
     "output_type": "stream",
     "text": [
      "9 /home/geon/dev_geon/open_source_data/12DriveEndFault/1772/0.021-OuterRace6.mat\n"
     ]
    },
    {
     "name": "stderr",
     "output_type": "stream",
     "text": [
      "100%|██████████| 100/100 [00:03<00:00, 30.29it/s]\n"
     ]
    },
    {
     "name": "stdout",
     "output_type": "stream",
     "text": [
      "(1000, 1200, 30)\n",
      "/home/geon/dev_geon/open_source_data 12DriveEndFault 1750\n",
      "0 /home/geon/dev_geon/open_source_data/NormalBaseline/1750/Normal.mat\n",
      "dict_keys(['__header__', '__version__', '__globals__', 'ans', 'X098_DE_time', 'X098_FE_time', 'X099_DE_time', 'X099_FE_time'])\n"
     ]
    },
    {
     "name": "stderr",
     "output_type": "stream",
     "text": [
      "100%|██████████| 100/100 [00:04<00:00, 23.17it/s]\n"
     ]
    },
    {
     "name": "stdout",
     "output_type": "stream",
     "text": [
      "1 /home/geon/dev_geon/open_source_data/12DriveEndFault/1750/0.007-Ball.mat\n"
     ]
    },
    {
     "name": "stderr",
     "output_type": "stream",
     "text": [
      "100%|██████████| 100/100 [00:04<00:00, 22.97it/s]\n"
     ]
    },
    {
     "name": "stdout",
     "output_type": "stream",
     "text": [
      "2 /home/geon/dev_geon/open_source_data/12DriveEndFault/1750/0.014-Ball.mat\n"
     ]
    },
    {
     "name": "stderr",
     "output_type": "stream",
     "text": [
      "100%|██████████| 100/100 [00:04<00:00, 22.66it/s]\n"
     ]
    },
    {
     "name": "stdout",
     "output_type": "stream",
     "text": [
      "3 /home/geon/dev_geon/open_source_data/12DriveEndFault/1750/0.021-Ball.mat\n"
     ]
    },
    {
     "name": "stderr",
     "output_type": "stream",
     "text": [
      "100%|██████████| 100/100 [00:04<00:00, 23.14it/s]\n"
     ]
    },
    {
     "name": "stdout",
     "output_type": "stream",
     "text": [
      "4 /home/geon/dev_geon/open_source_data/12DriveEndFault/1750/0.007-InnerRace.mat\n"
     ]
    },
    {
     "name": "stderr",
     "output_type": "stream",
     "text": [
      "100%|██████████| 100/100 [00:04<00:00, 22.63it/s]\n"
     ]
    },
    {
     "name": "stdout",
     "output_type": "stream",
     "text": [
      "5 /home/geon/dev_geon/open_source_data/12DriveEndFault/1750/0.014-InnerRace.mat\n"
     ]
    },
    {
     "name": "stderr",
     "output_type": "stream",
     "text": [
      "100%|██████████| 100/100 [00:04<00:00, 23.07it/s]\n"
     ]
    },
    {
     "name": "stdout",
     "output_type": "stream",
     "text": [
      "6 /home/geon/dev_geon/open_source_data/12DriveEndFault/1750/0.021-InnerRace.mat\n"
     ]
    },
    {
     "name": "stderr",
     "output_type": "stream",
     "text": [
      "100%|██████████| 100/100 [00:04<00:00, 23.20it/s]\n"
     ]
    },
    {
     "name": "stdout",
     "output_type": "stream",
     "text": [
      "7 /home/geon/dev_geon/open_source_data/12DriveEndFault/1750/0.007-OuterRace6.mat\n"
     ]
    },
    {
     "name": "stderr",
     "output_type": "stream",
     "text": [
      "100%|██████████| 100/100 [00:04<00:00, 23.02it/s]\n"
     ]
    },
    {
     "name": "stdout",
     "output_type": "stream",
     "text": [
      "8 /home/geon/dev_geon/open_source_data/12DriveEndFault/1750/0.014-OuterRace6.mat\n"
     ]
    },
    {
     "name": "stderr",
     "output_type": "stream",
     "text": [
      "100%|██████████| 100/100 [00:04<00:00, 23.15it/s]\n"
     ]
    },
    {
     "name": "stdout",
     "output_type": "stream",
     "text": [
      "9 /home/geon/dev_geon/open_source_data/12DriveEndFault/1750/0.021-OuterRace6.mat\n"
     ]
    },
    {
     "name": "stderr",
     "output_type": "stream",
     "text": [
      "100%|██████████| 100/100 [00:04<00:00, 22.86it/s]\n"
     ]
    },
    {
     "name": "stdout",
     "output_type": "stream",
     "text": [
      "(1000, 1200, 30)\n",
      "/home/geon/dev_geon/open_source_data 12DriveEndFault 1730\n",
      "0 /home/geon/dev_geon/open_source_data/NormalBaseline/1730/Normal.mat\n"
     ]
    },
    {
     "name": "stderr",
     "output_type": "stream",
     "text": [
      "100%|██████████| 100/100 [00:04<00:00, 21.65it/s]\n"
     ]
    },
    {
     "name": "stdout",
     "output_type": "stream",
     "text": [
      "1 /home/geon/dev_geon/open_source_data/12DriveEndFault/1730/0.007-Ball.mat\n"
     ]
    },
    {
     "name": "stderr",
     "output_type": "stream",
     "text": [
      "100%|██████████| 100/100 [00:04<00:00, 21.98it/s]\n"
     ]
    },
    {
     "name": "stdout",
     "output_type": "stream",
     "text": [
      "2 /home/geon/dev_geon/open_source_data/12DriveEndFault/1730/0.014-Ball.mat\n"
     ]
    },
    {
     "name": "stderr",
     "output_type": "stream",
     "text": [
      "100%|██████████| 100/100 [00:04<00:00, 22.03it/s]\n"
     ]
    },
    {
     "name": "stdout",
     "output_type": "stream",
     "text": [
      "3 /home/geon/dev_geon/open_source_data/12DriveEndFault/1730/0.021-Ball.mat\n"
     ]
    },
    {
     "name": "stderr",
     "output_type": "stream",
     "text": [
      "100%|██████████| 100/100 [00:04<00:00, 21.85it/s]\n"
     ]
    },
    {
     "name": "stdout",
     "output_type": "stream",
     "text": [
      "4 /home/geon/dev_geon/open_source_data/12DriveEndFault/1730/0.007-InnerRace.mat\n"
     ]
    },
    {
     "name": "stderr",
     "output_type": "stream",
     "text": [
      "100%|██████████| 100/100 [00:04<00:00, 21.94it/s]\n"
     ]
    },
    {
     "name": "stdout",
     "output_type": "stream",
     "text": [
      "5 /home/geon/dev_geon/open_source_data/12DriveEndFault/1730/0.014-InnerRace.mat\n"
     ]
    },
    {
     "name": "stderr",
     "output_type": "stream",
     "text": [
      "100%|██████████| 100/100 [00:04<00:00, 22.32it/s]\n"
     ]
    },
    {
     "name": "stdout",
     "output_type": "stream",
     "text": [
      "6 /home/geon/dev_geon/open_source_data/12DriveEndFault/1730/0.021-InnerRace.mat\n"
     ]
    },
    {
     "name": "stderr",
     "output_type": "stream",
     "text": [
      "100%|██████████| 100/100 [00:04<00:00, 22.06it/s]\n"
     ]
    },
    {
     "name": "stdout",
     "output_type": "stream",
     "text": [
      "7 /home/geon/dev_geon/open_source_data/12DriveEndFault/1730/0.007-OuterRace6.mat\n"
     ]
    },
    {
     "name": "stderr",
     "output_type": "stream",
     "text": [
      "100%|██████████| 100/100 [00:04<00:00, 21.88it/s]\n"
     ]
    },
    {
     "name": "stdout",
     "output_type": "stream",
     "text": [
      "8 /home/geon/dev_geon/open_source_data/12DriveEndFault/1730/0.014-OuterRace6.mat\n"
     ]
    },
    {
     "name": "stderr",
     "output_type": "stream",
     "text": [
      "100%|██████████| 100/100 [00:04<00:00, 22.24it/s]\n"
     ]
    },
    {
     "name": "stdout",
     "output_type": "stream",
     "text": [
      "9 /home/geon/dev_geon/open_source_data/12DriveEndFault/1730/0.021-OuterRace6.mat\n"
     ]
    },
    {
     "name": "stderr",
     "output_type": "stream",
     "text": [
      "100%|██████████| 100/100 [00:04<00:00, 22.19it/s]\n"
     ]
    },
    {
     "name": "stdout",
     "output_type": "stream",
     "text": [
      "(1000, 1200, 30)\n"
     ]
    }
   ],
   "source": [
    "cwru_1797 = CWRU(rpms = ['1797'])\n",
    "cwru_1772 = CWRU( rpms = ['1772'])\n",
    "cwru_1750 = CWRU(rpms = ['1750'])\n",
    "cwru_1730 = CWRU(rpms = ['1730'])"
   ]
  },
  {
   "cell_type": "code",
   "execution_count": 63,
   "metadata": {},
   "outputs": [],
   "source": [
    "import torch\n",
    "import torch.fft as fft\n",
    "import torch.nn as nn\n",
    "import torch.nn.functional as F\n",
    "\n",
    "class FFTReal(nn.Module):\n",
    "    def forward(self, inputs, dim):\n",
    "        inputs = inputs.type(torch.complex64)\n",
    "        fft_result = fft.fft(inputs, dim = dim)\n",
    "        return torch.real(fft_result)\n",
    "\n",
    "class Discriminator(nn.Module):\n",
    "    def __init__(self, input_size, dense1_out, dense2_out):\n",
    "        super(Discriminator, self).__init__()\n",
    "        self.fc1 = nn.Linear(input_size, dense1_out)\n",
    "        self.fc2 = nn.Linear(dense1_out, dense2_out)\n",
    "        self.fc3 = nn.Linear(dense2_out, 1)  # Output layer for binary classification\n",
    "\n",
    "        self.silu = nn.SiLU(0.2)\n",
    "        self.dropout = nn.Dropout(0.3)\n",
    "\n",
    "    def forward(self, x):\n",
    "        x = self.silu(self.fc1(x))\n",
    "        x = self.silu(self.fc2(x))\n",
    "        x = torch.sigmoid(self.fc3(x))  # Sigmoid for binary classification\n",
    "        return x\n",
    "    \n",
    "class TripletLoss(nn.Module):\n",
    "    def __init__(self, margin=3):\n",
    "        super(TripletLoss, self).__init__()\n",
    "        self.margin = margin\n",
    "        self.triplet_loss = nn.TripletMarginWithDistanceLoss(distance_function=nn.PairwiseDistance(),margin=self.margin)\n",
    "\n",
    "    def forward(self, anchor, positive, negative):\n",
    "        return self.triplet_loss(anchor, positive, negative)\n",
    "    \n",
    "\n",
    "class CONV_LSTM_Classifier(nn.Module):\n",
    "    def __init__(\n",
    "        self,\n",
    "        in_length: int = 1200,\n",
    "        output_size: int = 128,\n",
    "        out_channel1_size = 16,\n",
    "        out_channel2_size = 32,\n",
    "        out_channel3_size = 64,\n",
    "        out_channel4_size = 8,\n",
    "        kernel1_size = 16,\n",
    "        kernel2_size = 8,\n",
    "        kernel3_size = 8,\n",
    "        kernel4_size = 4,\n",
    "        lstm_hidden_size : int = 32,\n",
    "        dense1_out_size : int = 32,\n",
    "        dense2_out_size : int = 16,\n",
    "        use_raw: bool = False,\n",
    "        use_bandpass_sk: bool = True,\n",
    "        use_bandpass_sk_eofft: bool = True,\n",
    "        use_bandpass: bool = True,\n",
    "        use_bandpass_fft: bool = True,\n",
    "        use_envelope_spectrum: bool = True,\n",
    "        use_envelope: bool = True,\n",
    "        use_eofft: bool = True,\n",
    "        use_fft_stat: bool = False,\n",
    "        use_stat: bool = False,\n",
    "        metadata_embedding: bool = False,\n",
    "        topk_freq: int = 10,\n",
    "        discriminator_dense1_outsize = 64,\n",
    "        discriminator_dense2_outsize = 16,\n",
    "    ):\n",
    "        super(CONV_LSTM_Classifier, self).__init__()\n",
    "        self.output_size = output_size\n",
    "        self.dropout  = nn.Dropout(0.3)\n",
    "        self.in_length = in_length\n",
    "        self.fft_real = FFTReal()\n",
    "        self.layer_norm1 = nn.LayerNorm(dense1_out_size)\n",
    "        self.layer_norm2 = nn.LayerNorm(dense2_out_size)\n",
    "        self.silu = nn.SiLU()\n",
    "        self.maxpool = nn.MaxPool1d(kernel_size=2)\n",
    "        self.use_eofft = use_eofft\n",
    "        self.use_envelope = use_envelope\n",
    "        self.use_envelope_spectrum = use_envelope_spectrum\n",
    "        self.use_fft_stat = use_fft_stat\n",
    "        self.use_stat = use_stat\n",
    "        self.use_raw = use_raw\n",
    "        self.use_bandpass = use_bandpass\n",
    "        self.use_bandpass_fft = use_bandpass_fft\n",
    "        self.metadata_embedding = metadata_embedding\n",
    "\n",
    "        self.in_channels =  2*(1 + int(use_bandpass_sk_eofft) + int(use_bandpass_sk)+ 9 * int(use_bandpass_fft) +  9 * int(use_bandpass) + 1 * int(use_raw) + int(use_envelope) + int(use_envelope_spectrum))\n",
    "        # Convolutional layers\n",
    "        self.conv1 = nn.Conv1d(in_channels=self.in_channels, out_channels=out_channel1_size, kernel_size=kernel1_size, stride=4, padding=1)\n",
    "        self.batchnorm1 = nn.BatchNorm1d(out_channel1_size)\n",
    "        self.conv2 = nn.Conv1d(in_channels=out_channel1_size, out_channels=out_channel2_size, kernel_size=kernel2_size, stride=2, padding=1)\n",
    "        self.batchnorm2 = nn.BatchNorm1d(out_channel2_size)\n",
    "        self.conv3 = nn.Conv1d(in_channels=out_channel2_size, out_channels=out_channel3_size, kernel_size=kernel3_size, stride=2, padding=1)\n",
    "        self.batchnorm3 = nn.BatchNorm1d(out_channel3_size)\n",
    "        self.conv4 = nn.Conv1d(in_channels=out_channel3_size, out_channels=out_channel4_size, kernel_size=kernel4_size, stride=1, padding=1)\n",
    "        self.batchnorm4 = nn.BatchNorm1d(out_channel4_size)\n",
    "    \n",
    "        # Calculate the output size after convolutions\n",
    "        self.conv4_out = self.calculate_conv_output_size()\n",
    "\n",
    "        # LSTM layer\n",
    "        self.lstm = nn.LSTM(input_size=self.conv4_out, hidden_size=lstm_hidden_size, batch_first=True, bidirectional=False)\n",
    "        \n",
    "        # Since LSTM is bidirectional, we concatenate the outputs, hence the hidden size is doubled\n",
    "        self.metadata_embedding = nn.Linear(1,lstm_hidden_size)\n",
    "        self.motor_embedding = nn.Linear(1,lstm_hidden_size)\n",
    "        self.dense1 = nn.Linear(lstm_hidden_size  + 16 * int(self.use_stat) + 1 * (topk_freq + 4) * int(self.use_fft_stat), dense1_out_size)  # Hidden size is doubled because LSTM is bidirectional\n",
    "        # Dense layers\n",
    "        self.dense2 = nn.Linear(dense1_out_size, dense2_out_size)\n",
    "        self.dense3 = nn.Linear(dense2_out_size, output_size)\n",
    "\n",
    "        self.triplet_loss = TripletLoss()\n",
    "   \n",
    "    def embedding(self,z):\n",
    "        \n",
    "        z = self.silu(self.dense2(z))\n",
    "        return z\n",
    "    \n",
    "    def fault_classfier(self,z):\n",
    "        \n",
    "        z = self.dense3(self.silu(self.dense2(z)))\n",
    "        return z\n",
    "    \n",
    "    def prepare_triplet(self, batch):\n",
    "    # batch_data: 입력 데이터, labels: 데이터 레이블\n",
    "        batch_data, labels = batch\n",
    "        batch_data = batch_data.squeeze(0)\n",
    "        labels = labels.squeeze(0)\n",
    "        n = batch_data.size(0)  # 배치 크기\n",
    "\n",
    "        # Triplet 샘플을 저장할 리스트 초기화\n",
    "        anchors = []\n",
    "        positives = []\n",
    "        negatives = []\n",
    "\n",
    "        for i in range(n):\n",
    "            anchor = batch_data[i]\n",
    "            anchor_label = labels[i]\n",
    "\n",
    "            # Positive 샘플 선택 (동일 클래스)\n",
    "            positive_indices = (labels == anchor_label).nonzero(as_tuple=True)[0]\n",
    "            positive_index = positive_indices[torch.randint(len(positive_indices), (1,))].item()\n",
    "            positive = batch_data[positive_index]\n",
    "\n",
    "            # Negative 샘플 선택 (다른 클래스)\n",
    "            negative_indices = (labels != anchor_label).nonzero(as_tuple=True)[0]\n",
    "            negative_index = negative_indices[torch.randint(len(negative_indices), (1,))].item()\n",
    "            negative = batch_data[negative_index]\n",
    "\n",
    "            anchors.append(anchor.unsqueeze(0))\n",
    "            positives.append(positive.unsqueeze(0))\n",
    "            negatives.append(negative.unsqueeze(0))\n",
    "\n",
    "        # 배치 형태로 변환\n",
    "        anchors = torch.cat(anchors, dim=0)\n",
    "        positives = torch.cat(positives, dim=0)\n",
    "        negatives = torch.cat(negatives, dim=0)\n",
    "\n",
    "        return anchors, positives, negatives\n",
    "    def fake_generator(self, x, alpha):\n",
    "        # 원본 데이터 x에 잡음 추가 및 스케일 조정\n",
    "        alpha = alpha.to(x.device)\n",
    "        noise = torch.randn_like(x) * alpha  # 배치 데이터에 대한 잡음 추가\n",
    "\n",
    "        # 0.95에서 1.05 사이의 랜덤한 상수 c 생성\n",
    "        beta = 0.6 + torch.rand(1).to(x.device) * 0.8\n",
    "        scaled_x = x * beta + torch.abs(noise)   # x에 c를 곱하고 랜덤한 노이즈를 추가\n",
    "        return scaled_x\n",
    "    \n",
    "    def calculate_adversarial_loss_and_acc(self, real_data, fake_data):\n",
    "        # Adversarial Loss calculation\n",
    "        real_output = self.discriminator(real_data)\n",
    "        fake_output = self.discriminator(fake_data)\n",
    "\n",
    "        adversarial_loss = F.binary_cross_entropy(real_output, torch.ones_like(real_output)) + \\\n",
    "                        F.binary_cross_entropy(fake_output, torch.zeros_like(fake_output))\n",
    "\n",
    "        threshold = 0.5\n",
    "        # Since outputs are probabilities, directly compare with the threshold\n",
    "        real_predictions = (real_output > threshold).float()\n",
    "        fake_predictions = (fake_output > threshold).float()\n",
    "\n",
    "        # Calculate accuracies\n",
    "        real_accuracy = torch.mean((real_predictions == 1).float())\n",
    "        fake_accuracy = torch.mean((fake_predictions == 0).float())\n",
    "\n",
    "        return adversarial_loss, real_accuracy, fake_accuracy\n",
    "\n",
    "    \n",
    "    def calculate_conv_output_size(self):\n",
    "        # Dummy input for calculating the size of LSTM input\n",
    "        # This assumes the input size to the first conv layer is (batch_size, channels, sequence_length)\n",
    "        dummy_input = torch.zeros(1, self.in_channels, self.in_length)\n",
    "        dummy_output = self.batchnorm4(self.conv4(self.silu(self.batchnorm3(self.conv3(self.silu(self.maxpool(self.batchnorm2(self.conv2(self.silu(self.batchnorm1(self.conv1(dummy_input))))))))))))\n",
    "        return dummy_output.shape[-1]\n",
    "    \n",
    "    def forward(self, x):\n",
    "        x1 = x[:,:,0].unsqueeze(-1)\n",
    "        x2 = x[:,:,1].unsqueeze(-1)\n",
    "\n",
    "        bandpassed1 = x[:,:,1:10]\n",
    "        bandpassed2 = x[:,:,10:19]\n",
    "        \n",
    "        eofft1 = x[:,:,20].unsqueeze(-1)\n",
    "        eofft2 = x[:,:,21].unsqueeze(-1)\n",
    "        \n",
    "        envelope1 = x[:,:,22].unsqueeze(-1)\n",
    "        envelope2 = x[:,:,23].unsqueeze(-1)\n",
    "        \n",
    "        envelope_spectrum1 = x[:,:,24].unsqueeze(-1)\n",
    "        envelope_spectrum2 = x[:,:,25].unsqueeze(-1)\n",
    "        \n",
    "        bandpassed_sk1 = x[:,:,26].unsqueeze(-1)\n",
    "        bandpassed_sk2 = x[:,:,27].unsqueeze(-1)\n",
    "\n",
    "        fft_bandpassed1 = self.fft_real(bandpassed1,1)\n",
    "        fft_bandpassed2 = self.fft_real(bandpassed2,2)\n",
    "        eofft_bandpassed_sk1 = x[:,:,28].unsqueeze(-1)\n",
    "        eofft_bandpassed_sk2 = x[:,:,29].unsqueeze(-1)\n",
    "        dynamic_features = torch.cat((bandpassed1,bandpassed2,\\\n",
    "                                      eofft1,eofft2,envelope1,envelope2,\\\n",
    "                                        envelope_spectrum1,envelope_spectrum2,\\\n",
    "                                        fft_bandpassed1,fft_bandpassed2,\\\n",
    "                                        bandpassed_sk1,bandpassed_sk2,\\\n",
    "                                        eofft_bandpassed_sk1, eofft_bandpassed_sk2),dim=-1)\n",
    "        dynamic_features = dynamic_features.transpose(1,2)\n",
    "\n",
    "        z = self.silu(self.batchnorm1(self.conv1(dynamic_features)))\n",
    "        z = self.silu(self.batchnorm2(self.conv2(z)))\n",
    "        z = self.maxpool(z)\n",
    "        z = self.silu(self.batchnorm3(self.conv3(z)))\n",
    "        z = self.silu(self.batchnorm4(self.conv4(z)))\n",
    "        z, _ = self.lstm(z)\n",
    "        z = z[:, -1, :]  # Take the last time step\n",
    "        \n",
    "        z = self.dense3(self.silu(self.dense2((self.silu(self.dense1(z))))))\n",
    "\n",
    "        return z\n",
    "\n",
    "\n",
    "    def predict(self, x):\n",
    "        self.eval()\n",
    "        with torch.no_grad():\n",
    "            return self.forward(x)\n",
    "        \n",
    "            \n",
    "if __name__ == \"__main__\":\n",
    "    _ = CONV_LSTM_Classifier()"
   ]
  },
  {
   "cell_type": "code",
   "execution_count": 109,
   "metadata": {},
   "outputs": [],
   "source": [
    "import learn2learn as l2l\n",
    "from learn2learn.data.transforms import NWays, KShots, LoadData, RemapLabels\n",
    "from torch.utils.data import ConcatDataset, DataLoader, Dataset, random_split\n",
    "data_train = ConcatDataset([cwru_1750, cwru_1730, cwru_1797])\n",
    "data_test = cwru_1772"
   ]
  },
  {
   "cell_type": "code",
   "execution_count": 110,
   "metadata": {},
   "outputs": [],
   "source": [
    "def train_dataloader(data_train):\n",
    "        data_train = l2l.data.MetaDataset(data_train)\n",
    "        train_transforms = [\n",
    "            NWays(data_train, 4),\n",
    "            KShots(data_train, 4 * 2),\n",
    "            LoadData(data_train),\n",
    "            RemapLabels(data_train),\n",
    "        ]\n",
    "        train_tasks = l2l.data.Taskset(\n",
    "            data_train,\n",
    "            task_transforms=train_transforms,\n",
    "            num_tasks= 50,\n",
    "        )\n",
    "        return DataLoader(dataset = train_tasks,\n",
    "                          num_workers = True,\n",
    "                          pin_memory = True,\n",
    "                          persistent_workers=True,shuffle = True)\n",
    "def test_dataloader(data_test):\n",
    "        data_test = l2l.data.MetaDataset(data_test)\n",
    "        train_transforms = [\n",
    "            NWays(data_test, 4),\n",
    "            KShots(data_test, 4 * 2),\n",
    "            LoadData(data_test),\n",
    "            RemapLabels(data_test),\n",
    "        ]\n",
    "        train_tasks = l2l.data.Taskset(\n",
    "            data_test,\n",
    "            task_transforms=train_transforms,\n",
    "            num_tasks= 50,\n",
    "        )\n",
    "        return DataLoader(dataset = train_tasks,\n",
    "                          num_workers = True,\n",
    "                          pin_memory = True,\n",
    "                          persistent_workers=True)"
   ]
  },
  {
   "cell_type": "code",
   "execution_count": 111,
   "metadata": {},
   "outputs": [],
   "source": [
    "train_loader = train_dataloader(data_train)\n",
    "test_loader = test_dataloader(data_test)"
   ]
  },
  {
   "cell_type": "code",
   "execution_count": 112,
   "metadata": {},
   "outputs": [],
   "source": [
    "def pairwise_distances_logits(a, b):\n",
    "    n = a.shape[0]\n",
    "    m = b.shape[0]\n",
    "    logits = -((a.unsqueeze(1).expand(n, m, -1) -\n",
    "                b.unsqueeze(0).expand(n, m, -1))**2).sum(dim=2)\n",
    "    return logits\n",
    "\n",
    "\n",
    "def accuracy(predictions, targets):\n",
    "    predictions = predictions.argmax(dim=1).view(targets.shape)\n",
    "    return (predictions == targets).sum().float() / targets.size(0)\n",
    "def cosine_similarity( a, b):\n",
    "    # Normalize vectors\n",
    "        a_normalized = a / a.norm(dim=1, keepdim=True)\n",
    "        b_normalized = b / b.norm(dim=1, keepdim=True)\n",
    "        \n",
    "        # Compute cosine similarity\n",
    "        similarity = torch.mm(a_normalized, b_normalized.t())\n",
    "        \n",
    "        return similarity"
   ]
  },
  {
   "cell_type": "code",
   "execution_count": 113,
   "metadata": {},
   "outputs": [],
   "source": [
    "def fast_adapt_cos( model, batch, ways, shot, mode, metric=None, device=None):\n",
    "        if metric is None:\n",
    "            metric = cosine_similarity\n",
    "        if device is None:\n",
    "            device = \"cuda\" if torch.cuda.is_available() else \"cpu\"\n",
    "        data, labels = batch\n",
    "        data = data.to(device)\n",
    "        labels = labels.to(device)\n",
    "\n",
    "        # Sort data samples by labels\n",
    "        # TODO: Can this be replaced by ConsecutiveLabels ?\n",
    "        sort = torch.sort(labels)\n",
    "        data = data.squeeze(0)[sort.indices].squeeze(0)\n",
    "        labels = labels.squeeze(0)[sort.indices].squeeze(0)\n",
    "        # Compute support and query embeddings\n",
    "        embeddings = model.forward(data)\n",
    "        support_indices = np.zeros(data.size(0), dtype=bool)\n",
    "        selection = np.arange(ways) * (shot + shot)\n",
    "        for offset in range(shot):\n",
    "            support_indices[selection + offset] = True\n",
    "        query_indices = torch.from_numpy(~support_indices)\n",
    "        support_indices = torch.from_numpy(support_indices)\n",
    "        support = embeddings[support_indices]\n",
    "        #support = model.fault_classfier(model.forward(self.net.ae.forward(data[support_indices].transpose(2,1)).transpose(2,1)))\n",
    "        support = support.reshape(ways, shot, -1).mean(dim=1)\n",
    "        query = embeddings[query_indices]\n",
    "        labels = labels[query_indices].long()\n",
    "        logits = cosine_similarity(query, support)\n",
    "        loss = F.cross_entropy(logits, labels)\n",
    "        acc = accuracy(logits, labels)\n",
    "        return loss, acc"
   ]
  },
  {
   "cell_type": "code",
   "execution_count": 114,
   "metadata": {},
   "outputs": [],
   "source": [
    "def fast_adapt_dis( model, batch, ways, shot, mode, metric=None, device=None):\n",
    "        if metric is None:\n",
    "            metric = pairwise_distances_logits\n",
    "        if device is None:\n",
    "            device = \"cuda\" if torch.cuda.is_available() else \"cpu\"\n",
    "        data, labels = batch\n",
    "        data = data.to(device)\n",
    "        labels = labels.to(device)\n",
    "\n",
    "        # Sort data samples by labels\n",
    "        # TODO: Can this be replaced by ConsecutiveLabels ?\n",
    "        sort = torch.sort(labels)\n",
    "        data = data.squeeze(0)[sort.indices].squeeze(0)\n",
    "        labels = labels.squeeze(0)[sort.indices].squeeze(0)\n",
    "        # Compute support and query embeddings\n",
    "        embeddings = model.forward(data)\n",
    "        support_indices = np.zeros(data.size(0), dtype=bool)\n",
    "        selection = np.arange(ways) * (shot + shot)\n",
    "        for offset in range(shot):\n",
    "            support_indices[selection + offset] = True\n",
    "        query_indices = torch.from_numpy(~support_indices)\n",
    "        support_indices = torch.from_numpy(support_indices)\n",
    "        support = embeddings[support_indices]\n",
    "        #support = model.fault_classfier(model.forward(self.net.ae.forward(data[support_indices].transpose(2,1)).transpose(2,1)))\n",
    "        support = support.reshape(ways, shot, -1).mean(dim=1)\n",
    "        query = embeddings[query_indices]\n",
    "        labels = labels[query_indices].long()\n",
    "        logits = pairwise_distances_logits(query, support)\n",
    "        loss = F.cross_entropy(logits, labels)\n",
    "        acc = accuracy(logits, labels)\n",
    "        return loss, acc"
   ]
  },
  {
   "cell_type": "code",
   "execution_count": 115,
   "metadata": {},
   "outputs": [],
   "source": [
    "device = \"cuda\" if torch.cuda.is_available() else \"cpu\"\n",
    "model = CONV_LSTM_Classifier().to(device)"
   ]
  },
  {
   "cell_type": "code",
   "execution_count": 116,
   "metadata": {},
   "outputs": [],
   "source": [
    "from torch.distributions.dirichlet import Dirichlet\n",
    "def make_mixedup( data, labels, alpha=0.5):\n",
    "        mixed_sample_list = []\n",
    "        label_list = []\n",
    "        for label in labels.unique():\n",
    "            # Find indices of samples with the same label\n",
    "            same_label_indices = (labels == label).nonzero(as_tuple=True)[0]\n",
    "            same_label_data = data[same_label_indices]\n",
    "            numberofdata_in_same_label = same_label_data.size(0)\n",
    "\n",
    "            if numberofdata_in_same_label > 1:\n",
    "                # Sample weights from a Dirichlet distribution\n",
    "                weights = Dirichlet(torch.tensor([alpha] * numberofdata_in_same_label)).sample()\n",
    "\n",
    "                # Initialize mixed sample\n",
    "                mixed_sample = torch.zeros_like(same_label_data[0])\n",
    "\n",
    "                # Perform the mixup\n",
    "                for i in range(numberofdata_in_same_label):\n",
    "                    mixed_sample += weights[i] * same_label_data[i]\n",
    "\n",
    "                mixed_sample_list.append(mixed_sample.unsqueeze(0))\n",
    "                label_list.append(label)\n",
    "        \n",
    "        if mixed_sample_list:\n",
    "            a = torch.cat(mixed_sample_list, dim=0)\n",
    "            b = torch.tensor(label_list)\n",
    "            return a, b\n",
    "        \n",
    "def fast_adapt_mixedup_data( model, batch, ways, shot, mode, metric=None, device=None):\n",
    "        if metric is None:\n",
    "            metric = pairwise_distances_logits\n",
    "        if device is None:\n",
    "            device = \"cuda\" if torch.cuda.is_available() else \"cpu\"\n",
    "        data, labels = batch\n",
    "        data = data.to(device)\n",
    "        labels = labels.to(device)\n",
    "\n",
    "        # Sort data samples by labels\n",
    "        # TODO: Can this be replaced by ConsecutiveLabels ?\n",
    "        sort = torch.sort(labels)\n",
    "        data = data.squeeze(0)[sort.indices].squeeze(0)\n",
    "        labels = labels.squeeze(0)[sort.indices].squeeze(0)\n",
    "        # Compute support and query embeddings\n",
    "        embeddings = model.forward(data)\n",
    "        support_indices = np.zeros(data.size(0), dtype=bool)\n",
    "        selection = np.arange(ways) * (shot + shot)\n",
    "        for offset in range(shot):\n",
    "            support_indices[selection + offset] = True\n",
    "        query_indices = torch.from_numpy(~support_indices)\n",
    "        support_indices = torch.from_numpy(support_indices)\n",
    "        \n",
    "        support_data = data[support_indices]\n",
    "        support_label = labels[support_indices]\n",
    "        mixed_data, _ = make_mixedup(support_data,support_label)\n",
    "        alpha = 0.9 + torch.rand(1).to(device) * 0.2\n",
    "        mixed_imbedding = model.forward(mixed_data * alpha)\n",
    "        proto = mixed_imbedding.reshape(ways, 1, -1).mean(dim=1)\n",
    "        query = embeddings[query_indices]\n",
    "        labels = labels[query_indices].long()\n",
    "        logits = cosine_similarity(query, proto)\n",
    "\n",
    "        loss = F.cross_entropy(logits, labels)\n",
    "        acc = accuracy(logits, labels)\n",
    "        return loss, acc"
   ]
  },
  {
   "cell_type": "code",
   "execution_count": 117,
   "metadata": {},
   "outputs": [
    {
     "name": "stderr",
     "output_type": "stream",
     "text": [
      "Exception ignored in: <function _MultiProcessingDataLoaderIter.__del__ at 0x7f0f46585160>\n",
      "Traceback (most recent call last):\n",
      "  File \"/home/geon/anaconda3/envs/python38/lib/python3.8/site-packages/torch/utils/data/dataloader.py\", line 1478, in __del__\n",
      "    self._shutdown_workers()\n",
      "  File \"/home/geon/anaconda3/envs/python38/lib/python3.8/site-packages/torch/utils/data/dataloader.py\", line 1461, in _shutdown_workers\n",
      "    if w.is_alive():\n",
      "  File \"/home/geon/anaconda3/envs/python38/lib/python3.8/multiprocessing/process.py\", line 160, in is_alive\n",
      "    assert self._parent_pid == os.getpid(), 'can only test a child process'\n",
      "AssertionError: can only test a child process\n"
     ]
    }
   ],
   "source": [
    "optimizer = torch.optim.AdamW(model.parameters(), lr=0.001)\n",
    "lr_scheduler = torch.optim.lr_scheduler.StepLR(\n",
    "optimizer, step_size=20, gamma=0.5)\n",
    "for epoch in range(1, 50 + 1):\n",
    "    model.train()\n",
    "\n",
    "    loss_ctr = 0\n",
    "    n_loss = 0\n",
    "    n_acc = 0\n",
    "\n",
    "    for i in range(100):\n",
    "        batch = next(iter(train_loader))\n",
    "\n",
    "        loss1, acc = fast_adapt_cos(model,\n",
    "                                   batch,\n",
    "                                   4,\n",
    "                                   4,\n",
    "                                   \"train\",\n",
    "                                   metric=cosine_similarity)\n",
    "        loss2, _ = fast_adapt_dis(model,\n",
    "                                   batch,\n",
    "                                   4,\n",
    "                                   4,\n",
    "                                   \"train\",\n",
    "                                   metric=cosine_similarity)\n",
    "        loss3,_ = fast_adapt_mixedup_data(model,\n",
    "                                   batch,\n",
    "                                   4,\n",
    "                                   4,\n",
    "                                   \"train\",\n",
    "                                   metric=pairwise_distances_logits)\n",
    "        anchor, positive, negative = model.prepare_triplet(batch)\n",
    "        # Feature 추출\n",
    "        anchor_feature = model.forward(anchor.to(device))\n",
    "        positive_feature = model.forward(positive.to(device)) \n",
    "        negative_feature = model.forward(negative.to(device))\n",
    "        # Loss 계산\n",
    "        triplet_loss = model.triplet_loss(anchor_feature, positive_feature, negative_feature)\n",
    "\n",
    "        loss_ctr += 1\n",
    "        n_loss += loss1.item()\n",
    "        n_acc += acc\n",
    "\n",
    "        optimizer.zero_grad()\n",
    "        (loss1 + loss3).backward()\n",
    "\n",
    "        triplet_loss.backward()\n",
    "        optimizer.step()\n",
    "    lr_scheduler.step()\n",
    "\n",
    "    print('epoch {}, train, loss={:.4f} acc={:.4f}'.format(\n",
    "        epoch, n_loss/loss_ctr, n_acc/loss_ctr))\n",
    "\n",
    "    model.eval()\n",
    "\n",
    "    loss_ctr = 0\n",
    "    n_loss = 0\n",
    "    n_acc = 0\n",
    "    for i, batch in enumerate(test_loader):\n",
    "        loss, acc = fast_adapt_cos(model,\n",
    "                                   batch,\n",
    "                                   4,\n",
    "                                   4,\n",
    "                                   \"test\",\n",
    "                                   metric=cosine_similarity)\n",
    "\n",
    "        loss_ctr += 1\n",
    "        n_loss += loss.item()\n",
    "        n_acc += acc\n",
    "\n",
    "    print('epoch {}, test, loss={:.4f} acc={:.4f}'.format(\n",
    "        epoch, n_loss/loss_ctr, n_acc/loss_ctr))\n",
    "\n",
    "        "
   ]
  },
  {
   "cell_type": "code",
   "execution_count": null,
   "metadata": {},
   "outputs": [],
   "source": [
    "def train_dataloader(data_train):\n",
    "    \n",
    "        return DataLoader(dataset = data_train,\n",
    "                          num_workers = True,\n",
    "                          pin_memory = True,\n",
    "                          persistent_workers=True,shuffle = True)\n",
    "def test_dataloader(data_test):\n",
    "\n",
    "        return DataLoader(dataset = data_test,\n",
    "                          num_workers = True,\n",
    "                          pin_memory = True,\n",
    "                          persistent_workers=True)\n",
    "train_loader = train_dataloader(data_train)\n",
    "test_loader = train_dataloader(data_test)"
   ]
  },
  {
   "cell_type": "code",
   "execution_count": null,
   "metadata": {},
   "outputs": [
    {
     "data": {
      "image/png": "[encoded data removed]",
      "text/plain": [
       "<Figure size 640x480 with 1 Axes>"
      ]
     },
     "metadata": {},
     "output_type": "display_data"
    }
   ],
   "source": [
    "import torch\n",
    "from mpl_toolkits.mplot3d import Axes3D\n",
    "import matplotlib.pyplot as plt\n",
    "\n",
    "# 가정: model은 이미 정의되어 있고, train_loader도 정의되어 있음\n",
    "model.eval()  # 모델을 평가 모드로 설정\n",
    "\n",
    "all_features = []\n",
    "all_labels = []\n",
    "\n",
    "with torch.no_grad():  # 그라디언트 계산을 비활성화\n",
    "    for data, labels in train_loader:\n",
    "        # 데이터를 모델에 입력\n",
    "        outputs = model(data.to(device))\n",
    "\n",
    "        \n",
    "        # 결과 저장 (numpy 배열로 변환)\n",
    "        all_features.append(outputs.cpu().numpy())\n",
    "        all_labels.append(labels.cpu().numpy())\n",
    "\n",
    "# 모든 배치의 결과를 하나의 배열로 결합\n",
    "train_all_features = np.concatenate(all_features, axis=0)\n",
    "train_all_labels = np.concatenate(all_labels, axis=0)\n",
    "\n",
    "# 3D 산점도 생성\n",
    "fig = plt.figure()\n",
    "ax = fig.add_subplot(111, projection='3d')\n",
    "\n",
    "# 데이터 포인트 플롯\n",
    "scatter = ax.scatter(train_all_features[:, 0], train_all_features[:, 1], train_all_features[:, 2], c=train_all_labels, cmap='viridis')\n",
    "\n",
    "# 레이블별로 색상 구분\n",
    "legend1 = ax.legend(*scatter.legend_elements(), title=\"Classes\")\n",
    "ax.add_artist(legend1)\n",
    "\n",
    "# 플롯 보여주기\n",
    "plt.show()"
   ]
  },
  {
   "cell_type": "code",
   "execution_count": null,
   "metadata": {},
   "outputs": [
    {
     "data": {
      "image/png": "[encoded data removed]",
      "text/plain": [
       "<Figure size 640x480 with 1 Axes>"
      ]
     },
     "metadata": {},
     "output_type": "display_data"
    }
   ],
   "source": [
    "import torch\n",
    "from mpl_toolkits.mplot3d import Axes3D\n",
    "import matplotlib.pyplot as plt\n",
    "\n",
    "# 가정: model은 이미 정의되어 있고, train_loader도 정의되어 있음\n",
    "model.eval()  # 모델을 평가 모드로 설정\n",
    "\n",
    "all_features = []\n",
    "all_labels = []\n",
    "\n",
    "with torch.no_grad():  # 그라디언트 계산을 비활성화\n",
    "    for data, labels in test_loader:\n",
    "        # 데이터를 모델에 입력\n",
    "        outputs = model(data.to(device))\n",
    "\n",
    "        \n",
    "        # 결과 저장 (numpy 배열로 변환)\n",
    "        all_features.append(outputs.cpu().numpy())\n",
    "        all_labels.append(labels.cpu().numpy())\n",
    "\n",
    "# 모든 배치의 결과를 하나의 배열로 결합\n",
    "test_all_features = np.concatenate(all_features, axis=0)\n",
    "test_all_labels = np.concatenate(all_labels, axis=0)\n",
    "\n",
    "# 3D 산점도 생성\n",
    "fig = plt.figure()\n",
    "ax = fig.add_subplot(111, projection='3d')\n",
    "\n",
    "# 데이터 포인트 플롯\n",
    "scatter = ax.scatter(test_all_features[:, 0], test_all_features[:, 1], test_all_features[:, 2], c=test_all_labels, cmap='viridis')\n",
    "\n",
    "# 레이블별로 색상 구분\n",
    "legend1 = ax.legend(*scatter.legend_elements(), title=\"Classes\")\n",
    "ax.add_artist(legend1)\n",
    "\n",
    "# 플롯 보여주기\n",
    "plt.show()"
   ]
  },
  {
   "cell_type": "code",
   "execution_count": null,
   "metadata": {},
   "outputs": [],
   "source": [
    "import pandas as pd\n",
    "df = pd.DataFrame(train_all_features)\n",
    "df[\"Target\"] = train_all_labels[:]\n",
    "class1_mean = df.groupby(\"Target\").mean().iloc[0,:]\n",
    "class2_mean = df.groupby(\"Target\").mean().iloc[1,:]\n",
    "class3_mean = df.groupby(\"Target\").mean().iloc[2,:]\n",
    "class4_mean = df.groupby(\"Target\").mean().iloc[3,:]"
   ]
  },
  {
   "cell_type": "code",
   "execution_count": null,
   "metadata": {},
   "outputs": [
    {
     "name": "stdout",
     "output_type": "stream",
     "text": [
      "0.9989999972222144\n"
     ]
    },
    {
     "data": {
      "image/png": "[encoded data removed]",
      "text/plain": [
       "<Figure size 800x600 with 2 Axes>"
      ]
     },
     "metadata": {},
     "output_type": "display_data"
    }
   ],
   "source": [
    "from sklearn.metrics import f1_score, confusion_matrix\n",
    "from scipy.spatial.distance import cdist\n",
    "import seaborn as sns\n",
    "# 맨해튼 거리를 이용한 분류 함수 정의\n",
    "def classify_with_manhattan_distance(test_data, class_means):\n",
    "    # 맨해튼 거리 계산\n",
    "    distances = cdist(test_data, class_means, metric='cityblock')\n",
    "\n",
    "    # 가장 거리가 짧은 클래스를 예측 값으로 선택\n",
    "    predictions = np.argmin(distances, axis=1)\n",
    "\n",
    "    return predictions\n",
    "\n",
    "# 클래스 평균을 배열로 변환\n",
    "class_means = np.array([class1_mean, class2_mean, class3_mean, class4_mean])\n",
    "\n",
    "# 테스트 데이터에 대해 분류 수행\n",
    "predictions = classify_with_manhattan_distance(test_all_features, class_means)\n",
    "\n",
    "# F1 스코어 계산\n",
    "f1 = f1_score(test_all_labels, predictions, average='weighted')\n",
    "\n",
    "# Confusion Matrix 계산\n",
    "conf_matrix = confusion_matrix(test_all_labels, predictions)\n",
    "print(f1)\n",
    "plt.figure(figsize=(8, 6))\n",
    "sns.heatmap(conf_matrix, annot=True, fmt='g', cmap='Blues', \n",
    "            xticklabels=[\"Normal\", \"Ball\", \"IR\", \"OR\"], \n",
    "            yticklabels=[\"Normal\", \"Ball\", \"IR\", \"OR\"])\n",
    "plt.xlabel('Predicted Label')\n",
    "plt.ylabel('True Label')\n",
    "plt.title('Confusion Matrix')\n",
    "plt.show()"
   ]
  },
  {
   "cell_type": "code",
   "execution_count": null,
   "metadata": {},
   "outputs": [
    {
     "name": "stdout",
     "output_type": "stream",
     "text": [
      "0.9979999777775308\n"
     ]
    },
    {
     "data": {
      "image/png": "[encoded data removed]",
      "text/plain": [
       "<Figure size 800x600 with 2 Axes>"
      ]
     },
     "metadata": {},
     "output_type": "display_data"
    }
   ],
   "source": [
    "from sklearn.metrics import f1_score, confusion_matrix\n",
    "from scipy.spatial.distance import cdist\n",
    "from sklearn.metrics.pairwise import cosine_similarity\n",
    "import seaborn as sns\n",
    "# 맨해튼 거리를 이용한 분류 함수 정의\n",
    "def classify_with_cosine_similarity(test_data, class_means):\n",
    "    # 코사인 유사도 계산\n",
    "    similarities = cosine_similarity(test_data, class_means)\n",
    "\n",
    "    # 가장 유사도가 높은 클래스를 예측 값으로 선택\n",
    "    predictions = np.argmax(similarities, axis=1)\n",
    "\n",
    "    return predictions\n",
    "\n",
    "# 클래스 평균을 배열로 변환\n",
    "class_means = np.array([class1_mean, class2_mean, class3_mean, class4_mean])\n",
    "\n",
    "# 테스트 데이터에 대해 분류 수행\n",
    "predictions = classify_with_cosine_similarity(test_all_features, class_means)\n",
    "\n",
    "# F1 스코어 계산\n",
    "f1 = f1_score(test_all_labels, predictions, average='weighted')\n",
    "\n",
    "# Confusion Matrix 계산\n",
    "conf_matrix = confusion_matrix(test_all_labels, predictions)\n",
    "print(f1)\n",
    "plt.figure(figsize=(8, 6))\n",
    "sns.heatmap(conf_matrix, annot=True, fmt='g', cmap='Blues', \n",
    "            xticklabels=[\"Normal\", \"Ball\", \"IR\", \"OR\"], \n",
    "            yticklabels=[\"Normal\", \"Ball\", \"IR\", \"OR\"])\n",
    "plt.xlabel('Predicted Label')\n",
    "plt.ylabel('True Label')\n",
    "plt.title('Confusion Matrix')\n",
    "plt.show()"
   ]
  },
  {
   "cell_type": "markdown",
   "metadata": {},
   "source": []
  }
 ],
 "metadata": {
  "kernelspec": {
   "display_name": "python38",
   "language": "python",
   "name": "python3"
  },
  "language_info": {
   "codemirror_mode": {
    "name": "ipython",
    "version": 3
   },
   "file_extension": ".py",
   "mimetype": "text/x-python",
   "name": "python",
   "nbconvert_exporter": "python",
   "pygments_lexer": "ipython3",
   "version": "3.8.17"
  }
 },
 "nbformat": 4,
 "nbformat_minor": 2
}
